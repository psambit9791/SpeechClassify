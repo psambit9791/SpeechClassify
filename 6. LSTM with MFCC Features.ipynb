{
 "cells": [
  {
   "cell_type": "code",
   "execution_count": 1,
   "metadata": {},
   "outputs": [
    {
     "data": {
      "text/plain": [
       "<torch._C.Generator at 0x7fab77eefb70>"
      ]
     },
     "execution_count": 1,
     "metadata": {},
     "output_type": "execute_result"
    }
   ],
   "source": [
    "import matplotlib.pyplot as plt\n",
    "import numpy as np\n",
    "import random\n",
    "from scipy import signal\n",
    "import pandas as pd\n",
    "\n",
    "import torch\n",
    "import torch.nn as nn\n",
    "from torch.autograd import Variable\n",
    "from torch.utils import data\n",
    "\n",
    "torch.cuda.set_device(2)\n",
    "torch.manual_seed(0)"
   ]
  },
  {
   "cell_type": "markdown",
   "metadata": {},
   "source": [
    "# Load the datasets"
   ]
  },
  {
   "cell_type": "code",
   "execution_count": 2,
   "metadata": {},
   "outputs": [],
   "source": [
    "X_train = np.load(\"./numpy_ds/x_train.npy\")\n",
    "X_val = np.load(\"./numpy_ds/x_val.npy\")\n",
    "X_test = np.load(\"./numpy_ds/x_test.npy\")\n",
    "\n",
    "y_train = np.load(\"./numpy_ds/y_train.npy\")\n",
    "y_val = np.load(\"./numpy_ds/y_val.npy\")\n",
    "y_test = np.load(\"./numpy_ds/y_test.npy\")"
   ]
  },
  {
   "cell_type": "code",
   "execution_count": 13,
   "metadata": {},
   "outputs": [],
   "source": [
    "class LSTMSpeechMode(nn.Module):\n",
    "    def __init__(self, input_size, hidden_size, output_size, n_layers=1):\n",
    "        super(LSTMSpeechMode, self).__init__()\n",
    "        \n",
    "        self.input_size = input_size\n",
    "        self.hidden_size = hidden_size\n",
    "        self.n_layers = n_layers\n",
    "        self.output_size = output_size\n",
    "\n",
    "        self.lstm = nn.LSTM(input_size=input_size, hidden_size=self.hidden_size, \n",
    "                             batch_first=True, num_layers=self.n_layers)\n",
    "        self.fc = nn.Linear(self.hidden_size, self.output_size)\n",
    "    \n",
    "    def forward(self, x):\n",
    "        batch_size = x.size(0)\n",
    "        hidden = Variable(torch.zeros(self.n_layers, batch_size, self.hidden_size))\n",
    "        \n",
    "        out, hidden = self.lstm(x)\n",
    "        out = self.fc(hidden[-1])\n",
    "        return out"
   ]
  },
  {
   "cell_type": "code",
   "execution_count": 30,
   "metadata": {},
   "outputs": [],
   "source": [
    "INPUT_SIZE = 13\n",
    "HIDDEN_SIZE = 100\n",
    "OUTPUT_SIZE = 3\n",
    "N_LAYERS = 2"
   ]
  },
  {
   "cell_type": "code",
   "execution_count": 40,
   "metadata": {},
   "outputs": [],
   "source": [
    "random.seed(0)\n",
    "\n",
    "def train_lstm(model, x_tr, y_tr, x_v, y_v, criterion, optimizer, epoch_range, batch_size):\n",
    "    losses = []\n",
    "    v_losses = []\n",
    "   \n",
    "    for num_epoch in range(epoch_range):\n",
    "        selected = random.sample(range(0, x_tr.shape[0]), batch_size)\n",
    "        x = np.zeros((batch_size, 299, 13))\n",
    "        y = np.zeros((batch_size, 3))\n",
    "        for i, feats in enumerate(selected):\n",
    "            x[i, :, :] = x_tr[feats, :, :]\n",
    "            y[i, :] = y_tr[feats, :]\n",
    "        x = torch.from_numpy(x).float().cuda()\n",
    "        y = torch.from_numpy(y).long().cuda()\n",
    "        hidden = torch.randn(N_LAYERS, batch_size, 8)\n",
    "        #---------FORWARD------------#\n",
    "        out = model.forward(x)\n",
    "        out = torch.tensor(out).float().cuda()\n",
    "        out = out.view(N_LAYERS, batch_size, OUTPUT_SIZE)[-1]\n",
    "        loss = criterion(out, torch.max(y,1)[1])\n",
    "        #---------BACKWARD------------#\n",
    "        optimizer.zero_grad()\n",
    "        loss.backward()\n",
    "        optimizer.step()\n",
    "        \n",
    "        v = random.sample(range(0, x_v.shape[0]), 8)\n",
    "        xv = np.zeros((8, 299, 13))\n",
    "        yv = np.zeros((8, 3))\n",
    "        for i, feats in enumerate(v):\n",
    "            xv[i, :, :] = x_v[feats, :, :]\n",
    "            yv[i, :] = y_v[feats, :]\n",
    "        xv = torch.from_numpy(xv).float().cuda()\n",
    "        yv = torch.from_numpy(yv).long().cuda()\n",
    "        hidden_v = torch.randn(N_LAYERS, 8, 8)\n",
    "        v_out = model.forward(xv)\n",
    "        v_out = torch.tensor(v_out).float().cuda()\n",
    "        v_out = v_out.view(N_LAYERS, 8, OUTPUT_SIZE)[-1]\n",
    "        vloss = criterion(v_out, torch.max(yv, 1)[1])\n",
    "        \n",
    "        losses.append(loss.data[0])\n",
    "        v_losses.append(vloss.data[0])\n",
    "        if num_epoch%100 == 0:\n",
    "            print('epoch [{}/{}], loss:{:.8f}, val:{:.8f}'.format(num_epoch, epoch_range, \n",
    "                                                              loss.data[0], vloss.data[0]))\n",
    "    return losses, v_losses"
   ]
  },
  {
   "cell_type": "code",
   "execution_count": 41,
   "metadata": {},
   "outputs": [],
   "source": [
    "def init_weights(layer):\n",
    "    if type(layer) == nn.Linear or type(layer) == nn.Conv2d:\n",
    "        nn.init.xavier_normal_(layer.weight)"
   ]
  },
  {
   "cell_type": "code",
   "execution_count": 42,
   "metadata": {
    "scrolled": true
   },
   "outputs": [
    {
     "name": "stderr",
     "output_type": "stream",
     "text": [
      "/disk/scratch/s1769454/anaconda3/envs/dissertation/lib/python3.6/site-packages/ipykernel_launcher.py:41: UserWarning: invalid index of a 0-dim tensor. This will be an error in PyTorch 0.5. Use tensor.item() to convert a 0-dim tensor to a Python number\n",
      "/disk/scratch/s1769454/anaconda3/envs/dissertation/lib/python3.6/site-packages/ipykernel_launcher.py:42: UserWarning: invalid index of a 0-dim tensor. This will be an error in PyTorch 0.5. Use tensor.item() to convert a 0-dim tensor to a Python number\n",
      "/disk/scratch/s1769454/anaconda3/envs/dissertation/lib/python3.6/site-packages/ipykernel_launcher.py:45: UserWarning: invalid index of a 0-dim tensor. This will be an error in PyTorch 0.5. Use tensor.item() to convert a 0-dim tensor to a Python number\n"
     ]
    },
    {
     "name": "stdout",
     "output_type": "stream",
     "text": [
      "epoch [0/5000], loss:1.12631190, val:1.11313319\n",
      "epoch [100/5000], loss:0.81044751, val:0.80006075\n",
      "epoch [200/5000], loss:0.47232318, val:0.29819942\n",
      "epoch [300/5000], loss:0.18818319, val:0.18648283\n",
      "epoch [400/5000], loss:0.09496715, val:0.08856271\n",
      "epoch [500/5000], loss:0.03167209, val:0.42817536\n",
      "epoch [600/5000], loss:0.01111604, val:0.01589537\n",
      "epoch [700/5000], loss:0.08362126, val:0.00660405\n",
      "epoch [800/5000], loss:0.00963647, val:0.68223816\n",
      "epoch [900/5000], loss:0.00205980, val:0.19446892\n",
      "epoch [1000/5000], loss:0.00174131, val:0.00393313\n",
      "epoch [1100/5000], loss:0.00113612, val:0.00027478\n",
      "epoch [1200/5000], loss:0.00173140, val:1.36172903\n",
      "epoch [1300/5000], loss:0.00139517, val:0.00002867\n",
      "epoch [1400/5000], loss:0.00068804, val:0.07914174\n",
      "epoch [1500/5000], loss:0.00076963, val:0.04538459\n",
      "epoch [1600/5000], loss:0.00048845, val:0.00016838\n",
      "epoch [1700/5000], loss:0.00048875, val:0.00004035\n",
      "epoch [1800/5000], loss:0.00020272, val:0.00423747\n",
      "epoch [1900/5000], loss:0.00013752, val:1.24752593\n",
      "epoch [2000/5000], loss:0.00011901, val:0.00035834\n",
      "epoch [2100/5000], loss:0.00047638, val:1.07980156\n",
      "epoch [2200/5000], loss:0.00028009, val:0.59119904\n",
      "epoch [2300/5000], loss:0.00007632, val:0.00026757\n",
      "epoch [2400/5000], loss:0.00008984, val:0.00003505\n",
      "epoch [2500/5000], loss:0.00011517, val:0.00006324\n",
      "epoch [2600/5000], loss:0.00011437, val:2.11195302\n",
      "epoch [2700/5000], loss:0.00003015, val:0.00009590\n",
      "epoch [2800/5000], loss:0.00000678, val:2.40570068\n",
      "epoch [2900/5000], loss:0.00001801, val:0.00007433\n",
      "epoch [3000/5000], loss:0.00005095, val:0.00015926\n",
      "epoch [3100/5000], loss:0.00004332, val:0.00000995\n",
      "epoch [3200/5000], loss:0.00008889, val:0.01154050\n",
      "epoch [3300/5000], loss:0.00006063, val:0.00004184\n",
      "epoch [3400/5000], loss:0.00001299, val:1.25580227\n",
      "epoch [3500/5000], loss:0.00002547, val:0.69960409\n",
      "epoch [3600/5000], loss:0.00002606, val:0.00004333\n",
      "epoch [3700/5000], loss:0.00003757, val:1.29040658\n",
      "epoch [3800/5000], loss:0.00003387, val:0.00011212\n",
      "epoch [3900/5000], loss:0.00000930, val:0.01041275\n",
      "epoch [4000/5000], loss:0.00003059, val:0.00002903\n",
      "epoch [4100/5000], loss:0.00002287, val:0.00003505\n",
      "epoch [4200/5000], loss:0.00000569, val:0.00074488\n",
      "epoch [4300/5000], loss:0.00002066, val:0.00000757\n",
      "epoch [4400/5000], loss:0.00000680, val:0.00000298\n",
      "epoch [4500/5000], loss:0.00002038, val:0.99155581\n",
      "epoch [4600/5000], loss:0.00001186, val:0.63512278\n",
      "epoch [4700/5000], loss:0.00001923, val:1.62502503\n",
      "epoch [4800/5000], loss:0.00000501, val:0.00006646\n",
      "epoch [4900/5000], loss:0.00001231, val:0.00005507\n"
     ]
    }
   ],
   "source": [
    "epoch_range = 5000\n",
    "batch_size = 48\n",
    "learning_rate = 0.0001\n",
    "\n",
    "lstm_1 = LSTMSpeechMode(INPUT_SIZE, HIDDEN_SIZE, OUTPUT_SIZE, N_LAYERS).cuda()\n",
    "lstm_1.apply(init_weights)\n",
    "criterion = nn.CrossEntropyLoss()\n",
    "optimizer = torch.optim.Adam(\n",
    "    lstm_1.parameters(), lr=learning_rate)\n",
    "\n",
    "losses_1, vloss = train_lstm(lstm_1, X_train, y_train, X_val, y_val,\n",
    "                                 criterion, optimizer, epoch_range, batch_size)"
   ]
  },
  {
   "cell_type": "code",
   "execution_count": 47,
   "metadata": {},
   "outputs": [
    {
     "data": {
      "image/png": "[encoded data removed]",
      "text/plain": [
       "<Figure size 648x360 with 1 Axes>"
      ]
     },
     "metadata": {},
     "output_type": "display_data"
    }
   ],
   "source": [
    "fig = plt.figure(figsize=(9, 5))\n",
    "plt.title(\"Loss Curve for LSTM-RNN\", fontsize=14)\n",
    "plt.plot(vloss, label=\"val\")\n",
    "plt.plot(losses_1, label=\"train\")\n",
    "plt.xlabel('Epoch')\n",
    "plt.ylabel('Loss')\n",
    "plt.legend()\n",
    "plt.show()\n",
    "fig.savefig(\"./images/lstm_performance.pdf\", bbox_inches='tight')"
   ]
  },
  {
   "cell_type": "code",
   "execution_count": 46,
   "metadata": {},
   "outputs": [
    {
     "name": "stdout",
     "output_type": "stream",
     "text": [
      "Accuracy =  89.58333333333333\n"
     ]
    }
   ],
   "source": [
    "total = y_test.shape[0]\n",
    "correct = 0\n",
    "\n",
    "for i in range(X_test.shape[0]):\n",
    "    data = X_test[i, :, :]\n",
    "    data = torch.from_numpy(data).float().cuda()\n",
    "    data = data.view(1, 299, 13)\n",
    "    true_out = y_test[i, :]\n",
    "    mdl_out = lstm_1.forward(data)\n",
    "    mdl_out = mdl_out.view(N_LAYERS, 3)[-1]\n",
    "    out = (mdl_out.data).cpu().numpy()\n",
    "    if np.argmax(out) == np.argmax(true_out):\n",
    "        correct += 1\n",
    "print(\"Accuracy = \", correct*100/total)"
   ]
  },
  {
   "cell_type": "code",
   "execution_count": 48,
   "metadata": {},
   "outputs": [
    {
     "name": "stderr",
     "output_type": "stream",
     "text": [
      "/disk/scratch/s1769454/anaconda3/envs/dissertation/lib/python3.6/site-packages/torch/serialization.py:193: UserWarning: Couldn't retrieve source code for container of type LSTMSpeechMode. It won't be checked for correctness upon loading.\n",
      "  \"type \" + obj.__name__ + \". It won't be checked \"\n"
     ]
    }
   ],
   "source": [
    "torch.save(lstm_1, 'models/lstm_speechmode.pt')"
   ]
  },
  {
   "cell_type": "code",
   "execution_count": null,
   "metadata": {},
   "outputs": [],
   "source": []
  }
 ],
 "metadata": {
  "kernelspec": {
   "display_name": "Python 3",
   "language": "python",
   "name": "python3"
  },
  "language_info": {
   "codemirror_mode": {
    "name": "ipython",
    "version": 3
   },
   "file_extension": ".py",
   "mimetype": "text/x-python",
   "name": "python",
   "nbconvert_exporter": "python",
   "pygments_lexer": "ipython3",
   "version": "3.6.5"
  }
 },
 "nbformat": 4,
 "nbformat_minor": 2
}
