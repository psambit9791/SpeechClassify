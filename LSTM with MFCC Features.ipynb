{
 "cells": [
  {
   "cell_type": "code",
   "execution_count": 1,
   "metadata": {},
   "outputs": [
    {
     "data": {
      "text/plain": [
       "<torch._C.Generator at 0x7f9e0afe9b90>"
      ]
     },
     "execution_count": 1,
     "metadata": {},
     "output_type": "execute_result"
    }
   ],
   "source": [
    "import matplotlib.pyplot as plt\n",
    "import numpy as np\n",
    "import random\n",
    "from scipy import signal\n",
    "import pandas as pd\n",
    "\n",
    "import torch\n",
    "import torch.nn as nn\n",
    "from torch.autograd import Variable\n",
    "from torch.utils import data\n",
    "\n",
    "torch.cuda.set_device(2)\n",
    "torch.manual_seed(0)"
   ]
  },
  {
   "cell_type": "markdown",
   "metadata": {},
   "source": [
    "# Load the datasets"
   ]
  },
  {
   "cell_type": "code",
   "execution_count": 2,
   "metadata": {},
   "outputs": [],
   "source": [
    "X_train = np.load(\"./numpy_ds/x_train.npy\")\n",
    "X_val = np.load(\"./numpy_ds/x_val.npy\")\n",
    "X_test = np.load(\"./numpy_ds/x_test.npy\")\n",
    "\n",
    "y_train = np.load(\"./numpy_ds/y_train.npy\")\n",
    "y_val = np.load(\"./numpy_ds/y_val.npy\")\n",
    "y_test = np.load(\"./numpy_ds/y_test.npy\")"
   ]
  },
  {
   "cell_type": "code",
   "execution_count": 70,
   "metadata": {},
   "outputs": [],
   "source": [
    "class LSTMSpeechMode(nn.Module):\n",
    "    def __init__(self, input_size, hidden_size, output_size, n_layers=1):\n",
    "        super(LSTMSpeechMode, self).__init__()\n",
    "        \n",
    "        self.input_size = input_size\n",
    "        self.hidden_size = hidden_size\n",
    "        self.n_layers = n_layers\n",
    "        self.output_size = output_size\n",
    "\n",
    "        self.lstm = nn.LSTM(input_size=input_size, hidden_size=self.hidden_size, \n",
    "                             batch_first=True, num_layers=1)\n",
    "        self.fc = nn.Linear(self.hidden_size, self.output_size)\n",
    "    \n",
    "    def forward(self, x):\n",
    "        batch_size = x.size(0)\n",
    "        #seq_len = x.size(1)\n",
    "        hidden = Variable(torch.zeros(self.n_layers, batch_size, self.hidden_size))\n",
    "        \n",
    "        out, hidden = self.lstm(x)\n",
    "        out = self.fc(hidden[-1])\n",
    "        return out"
   ]
  },
  {
   "cell_type": "code",
   "execution_count": 71,
   "metadata": {},
   "outputs": [],
   "source": [
    "INPUT_SIZE = 13\n",
    "HIDDEN_SIZE = 100\n",
    "OUTPUT_SIZE = 3"
   ]
  },
  {
   "cell_type": "code",
   "execution_count": 84,
   "metadata": {},
   "outputs": [],
   "source": [
    "random.seed(0)\n",
    "\n",
    "def train_lstm(model, x_tr, y_tr, x_v, y_v, criterion, optimizer, epoch_range, batch_size):\n",
    "    losses = []\n",
    "    v_losses = []\n",
    "   \n",
    "    for num_epoch in range(epoch_range):\n",
    "        selected = random.sample(range(0, x_tr.shape[0]), batch_size)\n",
    "        x = np.zeros((batch_size, 299, 13))\n",
    "        y = np.zeros((batch_size, 3))\n",
    "        for i, feats in enumerate(selected):\n",
    "            x[i, :, :] = x_tr[feats, :, :]\n",
    "            y[i, :] = y_tr[feats, :]\n",
    "        x = torch.from_numpy(x).float().cuda()\n",
    "        y = torch.from_numpy(y).long().cuda()\n",
    "        hidden = torch.randn(299, 2, batch_size, 8)\n",
    "        #---------FORWARD------------#\n",
    "        out = model.forward(x)\n",
    "        out = torch.tensor(out).float().cuda()\n",
    "        out = out.view(batch_size, OUTPUT_SIZE)\n",
    "        loss = criterion(out, torch.max(y,1)[1])\n",
    "        #---------BACKWARD------------#\n",
    "        optimizer.zero_grad()\n",
    "        loss.backward()\n",
    "        optimizer.step()\n",
    "        \n",
    "        v = random.sample(range(0, x_v.shape[0]), 8)\n",
    "        xv = np.zeros((8, 299, 13))\n",
    "        yv = np.zeros((8, 3))\n",
    "        for i, feats in enumerate(v):\n",
    "            xv[i, :, :] = x_v[feats, :, :]\n",
    "            yv[i, :] = y_v[feats, :]\n",
    "        xv = torch.from_numpy(xv).float().cuda()\n",
    "        yv = torch.from_numpy(yv).long().cuda()\n",
    "        hidden_v = torch.randn(299, 8, 8)\n",
    "        v_out = model.forward(xv)\n",
    "        v_out = torch.tensor(v_out).float().cuda()\n",
    "        v_out = v_out.view(8, 3)\n",
    "        vloss = criterion(v_out, torch.max(yv, 1)[1])\n",
    "        \n",
    "        losses.append(loss.data[0])\n",
    "        v_losses.append(vloss.data[0])\n",
    "        if num_epoch%100= == 0:\n",
    "            print('epoch [{}/{}], loss:{:.8f}, val:{:.8f}'.format(num_epoch, epoch_range, \n",
    "                                                              loss.data[0], vloss.data[0]))\n",
    "    return losses, v_losses"
   ]
  },
  {
   "cell_type": "code",
   "execution_count": 85,
   "metadata": {},
   "outputs": [],
   "source": [
    "def init_weights(layer):\n",
    "    if type(layer) == nn.Linear or type(layer) == nn.Conv2d:\n",
    "        nn.init.xavier_normal_(layer.weight)"
   ]
  },
  {
   "cell_type": "code",
   "execution_count": 89,
   "metadata": {
    "scrolled": true
   },
   "outputs": [
    {
     "name": "stderr",
     "output_type": "stream",
     "text": [
      "/disk/scratch/s1769454/anaconda3/envs/dissertation/lib/python3.6/site-packages/ipykernel_launcher.py:41: UserWarning: invalid index of a 0-dim tensor. This will be an error in PyTorch 0.5. Use tensor.item() to convert a 0-dim tensor to a Python number\n",
      "/disk/scratch/s1769454/anaconda3/envs/dissertation/lib/python3.6/site-packages/ipykernel_launcher.py:42: UserWarning: invalid index of a 0-dim tensor. This will be an error in PyTorch 0.5. Use tensor.item() to convert a 0-dim tensor to a Python number\n",
      "/disk/scratch/s1769454/anaconda3/envs/dissertation/lib/python3.6/site-packages/ipykernel_launcher.py:45: UserWarning: invalid index of a 0-dim tensor. This will be an error in PyTorch 0.5. Use tensor.item() to convert a 0-dim tensor to a Python number\n"
     ]
    },
    {
     "name": "stdout",
     "output_type": "stream",
     "text": [
      "epoch [0/5000], loss:11.21879482, val:19.49786758\n",
      "epoch [100/5000], loss:3.04476738, val:2.60097003\n",
      "epoch [200/5000], loss:1.22547829, val:3.67819834\n",
      "epoch [300/5000], loss:1.40868425, val:3.06870079\n",
      "epoch [400/5000], loss:0.37615553, val:3.66526723\n",
      "epoch [500/5000], loss:0.20707828, val:2.30409074\n",
      "epoch [600/5000], loss:0.19675545, val:4.63812208\n",
      "epoch [700/5000], loss:0.38427386, val:1.08940029\n",
      "epoch [800/5000], loss:0.07128925, val:1.52805018\n",
      "epoch [900/5000], loss:0.10038143, val:0.65481198\n",
      "epoch [1000/5000], loss:0.03991289, val:2.83519268\n",
      "epoch [1100/5000], loss:0.14652647, val:0.01094201\n",
      "epoch [1200/5000], loss:0.13573645, val:0.61632466\n",
      "epoch [1300/5000], loss:0.03073964, val:1.85349703\n",
      "epoch [1400/5000], loss:0.03027841, val:1.75825489\n",
      "epoch [1500/5000], loss:0.03582968, val:0.15828282\n",
      "epoch [1600/5000], loss:0.01101366, val:2.79739547\n",
      "epoch [1700/5000], loss:0.02185766, val:1.79950202\n",
      "epoch [1800/5000], loss:0.01913408, val:0.78784084\n",
      "epoch [1900/5000], loss:0.00982624, val:0.00636837\n",
      "epoch [2000/5000], loss:0.02095123, val:0.00286448\n",
      "epoch [2100/5000], loss:0.00746637, val:5.19948483\n",
      "epoch [2200/5000], loss:0.01227001, val:0.53878605\n",
      "epoch [2300/5000], loss:0.00742606, val:0.00966927\n",
      "epoch [2400/5000], loss:0.00548784, val:0.65642118\n",
      "epoch [2500/5000], loss:0.02008339, val:0.01143202\n",
      "epoch [2600/5000], loss:0.00664576, val:0.06908716\n",
      "epoch [2700/5000], loss:0.00485353, val:0.31339169\n",
      "epoch [2800/5000], loss:0.00635283, val:1.24556458\n",
      "epoch [2900/5000], loss:0.00392708, val:0.02991307\n",
      "epoch [3000/5000], loss:0.00254533, val:0.90686625\n",
      "epoch [3100/5000], loss:0.00364282, val:0.00881122\n",
      "epoch [3200/5000], loss:0.00403244, val:0.00081801\n",
      "epoch [3300/5000], loss:0.00229079, val:0.96905649\n",
      "epoch [3400/5000], loss:0.00147704, val:0.08405399\n",
      "epoch [3500/5000], loss:0.00139223, val:0.04830438\n",
      "epoch [3600/5000], loss:0.00124534, val:0.00314140\n",
      "epoch [3700/5000], loss:0.00104955, val:1.24811721\n",
      "epoch [3800/5000], loss:0.00135172, val:0.73488390\n",
      "epoch [3900/5000], loss:0.00107604, val:0.42752469\n",
      "epoch [4000/5000], loss:0.00115141, val:0.00003672\n",
      "epoch [4100/5000], loss:0.00134220, val:0.01189680\n",
      "epoch [4200/5000], loss:0.00115015, val:0.08818415\n",
      "epoch [4300/5000], loss:0.00114868, val:0.00077254\n",
      "epoch [4400/5000], loss:0.00102419, val:1.15856218\n",
      "epoch [4500/5000], loss:0.00113045, val:0.00078657\n",
      "epoch [4600/5000], loss:0.00075309, val:1.05013514\n",
      "epoch [4700/5000], loss:0.00089071, val:2.76645947\n",
      "epoch [4800/5000], loss:0.00044938, val:1.61740732\n",
      "epoch [4900/5000], loss:0.00062149, val:0.90736544\n"
     ]
    }
   ],
   "source": [
    "epoch_range = 5000\n",
    "batch_size = 48\n",
    "learning_rate = 0.0001\n",
    "\n",
    "lstm_1 = LSTMSpeechMode(INPUT_SIZE, HIDDEN_SIZE, OUTPUT_SIZE).cuda()\n",
    "lstm_1.apply(init_weights)\n",
    "criterion = nn.CrossEntropyLoss()\n",
    "optimizer = torch.optim.Adam(\n",
    "    lstm_1.parameters(), lr=learning_rate)\n",
    "\n",
    "losses_1, vloss = train_lstm(lstm_1, X_train, y_train, X_val, y_val,\n",
    "                                 criterion, optimizer, epoch_range, batch_size)"
   ]
  },
  {
   "cell_type": "code",
   "execution_count": 90,
   "metadata": {},
   "outputs": [
    {
     "data": {
      "image/png": "[encoded data removed]",
      "text/plain": [
       "<Figure size 648x360 with 1 Axes>"
      ]
     },
     "metadata": {},
     "output_type": "display_data"
    }
   ],
   "source": [
    "fig = plt.figure(figsize=(9, 5))\n",
    "plt.title(\"Loss Curve for CNN\", fontsize=14)\n",
    "plt.plot(vloss, label=\"val\")\n",
    "plt.plot(losses_1, label=\"train\")\n",
    "plt.xlabel('Epoch')\n",
    "plt.ylabel('Loss')\n",
    "plt.legend()\n",
    "plt.show()\n",
    "#fig.savefig(\"./images/lstm_performance.pdf\", bbox_inches='tight')"
   ]
  },
  {
   "cell_type": "code",
   "execution_count": 93,
   "metadata": {},
   "outputs": [
    {
     "name": "stdout",
     "output_type": "stream",
     "text": [
      "Accuracy =  84.72222222222223\n"
     ]
    }
   ],
   "source": [
    "total = y_test.shape[0]\n",
    "correct = 0\n",
    "\n",
    "for i in range(X_test.shape[0]):\n",
    "    data = X_test[i, :, :]\n",
    "    data = torch.from_numpy(data).float().cuda()\n",
    "    data = data.view(1, 299, 13)\n",
    "    true_out = y_test[i, :]\n",
    "    mdl_out = lstm_1.forward(data)\n",
    "    mdl_out = mdl_out.view(1, 3)\n",
    "    out = (mdl_out.data).cpu().numpy()\n",
    "    if np.argmax(out) == np.argmax(true_out):\n",
    "        correct += 1\n",
    "print(\"Accuracy = \", correct*100/total)"
   ]
  },
  {
   "cell_type": "code",
   "execution_count": null,
   "metadata": {},
   "outputs": [],
   "source": []
  }
 ],
 "metadata": {
  "kernelspec": {
   "display_name": "Python 3",
   "language": "python",
   "name": "python3"
  },
  "language_info": {
   "codemirror_mode": {
    "name": "ipython",
    "version": 3
   },
   "file_extension": ".py",
   "mimetype": "text/x-python",
   "name": "python",
   "nbconvert_exporter": "python",
   "pygments_lexer": "ipython3",
   "version": "3.6.5"
  }
 },
 "nbformat": 4,
 "nbformat_minor": 2
}
