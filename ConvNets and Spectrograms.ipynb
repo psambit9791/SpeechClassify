{
 "cells": [
  {
   "cell_type": "code",
   "execution_count": 3,
   "metadata": {},
   "outputs": [
    {
     "data": {
      "text/plain": [
       "<torch._C.Generator at 0x7f5baef5a150>"
      ]
     },
     "execution_count": 3,
     "metadata": {},
     "output_type": "execute_result"
    }
   ],
   "source": [
    "import matplotlib.pyplot as plt\n",
    "import numpy as np\n",
    "import random\n",
    "from scipy import signal\n",
    "import pandas as pd\n",
    "\n",
    "import torch\n",
    "import torch.nn as nn\n",
    "from torch.autograd import Variable\n",
    "from torch.utils import data\n",
    "\n",
    "torch.cuda.set_device(2)\n",
    "torch.manual_seed(0)"
   ]
  },
  {
   "cell_type": "markdown",
   "metadata": {},
   "source": [
    "# Get Data and generate spectrograms"
   ]
  },
  {
   "cell_type": "code",
   "execution_count": 114,
   "metadata": {},
   "outputs": [],
   "source": [
    "song_df = pd.read_hdf('song_df.h5', 'song_df')"
   ]
  },
  {
   "cell_type": "code",
   "execution_count": 109,
   "metadata": {},
   "outputs": [
    {
     "name": "stderr",
     "output_type": "stream",
     "text": [
      "/disk/scratch/s1769454/anaconda3/envs/dissertation/lib/python3.6/site-packages/ipykernel_launcher.py:10: RuntimeWarning: divide by zero encountered in log\n",
      "  # Remove the CWD from sys.path while we load stuff.\n"
     ]
    }
   ],
   "source": [
    "plt.ioff()\n",
    "for i in range(len(song_df.index)):\n",
    "    a = song_df.iloc[i].Data\n",
    "    fig, ax = plt.subplots(1, 1, figsize=(0.375*2,0.375*2), frameon=False, facecolor='black')\n",
    "    ax.get_yaxis().set_visible(False)\n",
    "    ax.get_xaxis().set_visible(False)\n",
    "    ax.set_facecolor(\"black\")\n",
    "    #fig.add_axes(ax)\n",
    "    frequencies, times, spectrogram = signal.spectrogram(a, 16000)\n",
    "    plt.pcolormesh(np.log(spectrogram))\n",
    "    plt.axis('off')\n",
    "    #plt.show()\n",
    "    filename = song_df.iloc[i].Name + \".png\"\n",
    "    #fig.set_tight_layout(True)\n",
    "    extent = ax.get_window_extent().transformed(fig.dpi_scale_trans.inverted())\n",
    "    #plt.savefig('/tmp/test.png', bbox_inches=extent)\n",
    "    fig.savefig(\"./spectrograms/\"+filename, bbox_inches=extent)\n",
    "    plt.close(fig)\n",
    "\n",
    "# Log of Spectrogram caused an error because spectrogram values had 0 in sing034_3 due to the pause in between."
   ]
  },
  {
   "cell_type": "code",
   "execution_count": 115,
   "metadata": {},
   "outputs": [
    {
     "data": {
      "text/html": [
       "<div>\n",
       "<style scoped>\n",
       "    .dataframe tbody tr th:only-of-type {\n",
       "        vertical-align: middle;\n",
       "    }\n",
       "\n",
       "    .dataframe tbody tr th {\n",
       "        vertical-align: top;\n",
       "    }\n",
       "\n",
       "    .dataframe thead th {\n",
       "        text-align: right;\n",
       "    }\n",
       "</style>\n",
       "<table border=\"1\" class=\"dataframe\">\n",
       "  <thead>\n",
       "    <tr style=\"text-align: right;\">\n",
       "      <th></th>\n",
       "      <th>Name</th>\n",
       "      <th>Data</th>\n",
       "      <th>Freq</th>\n",
       "      <th>Type</th>\n",
       "      <th>MFCC</th>\n",
       "    </tr>\n",
       "  </thead>\n",
       "  <tbody>\n",
       "    <tr>\n",
       "      <th>373</th>\n",
       "      <td>sing034_3</td>\n",
       "      <td>[-19464192, -16252928, -5177344, 14483456, 465...</td>\n",
       "      <td>16000</td>\n",
       "      <td>0</td>\n",
       "      <td>[[38.812406955625654, -6.280405806858493, -13....</td>\n",
       "    </tr>\n",
       "  </tbody>\n",
       "</table>\n",
       "</div>"
      ],
      "text/plain": [
       "          Name                                               Data   Freq  \\\n",
       "373  sing034_3  [-19464192, -16252928, -5177344, 14483456, 465...  16000   \n",
       "\n",
       "     Type                                               MFCC  \n",
       "373     0  [[38.812406955625654, -6.280405806858493, -13....  "
      ]
     },
     "execution_count": 115,
     "metadata": {},
     "output_type": "execute_result"
    }
   ],
   "source": [
    "song_df.loc[song_df['Name'] == 'sing034_3']"
   ]
  },
  {
   "cell_type": "markdown",
   "metadata": {},
   "source": [
    "# Updating the data repository"
   ]
  },
  {
   "cell_type": "code",
   "execution_count": 78,
   "metadata": {},
   "outputs": [],
   "source": [
    "import cv2\n",
    "import copy"
   ]
  },
  {
   "cell_type": "code",
   "execution_count": 124,
   "metadata": {},
   "outputs": [],
   "source": [
    "spectro_list = []\n",
    "\n",
    "for i in range(len(song_df.index)):\n",
    "    filename = \"spectrograms/\"+song_df.iloc[i].Name+\".png\"\n",
    "    temp_pic = cv2.imread(filename)\n",
    "    temp_pic = cv2.cvtColor(temp_pic, cv2.COLOR_RGB2GRAY)\n",
    "    temp_pic = temp_pic/255\n",
    "    spectro_list.append(copy.deepcopy(temp_pic[:, :47]))"
   ]
  },
  {
   "cell_type": "code",
   "execution_count": 125,
   "metadata": {},
   "outputs": [],
   "source": [
    "song_df['Spectrogram'] = pd.Series(spectro_list, index=song_df.index)"
   ]
  },
  {
   "cell_type": "code",
   "execution_count": 126,
   "metadata": {},
   "outputs": [
    {
     "name": "stderr",
     "output_type": "stream",
     "text": [
      "/disk/scratch/s1769454/anaconda3/envs/dissertation/lib/python3.6/site-packages/pandas-0.23.1-py3.6-linux-x86_64.egg/pandas/core/generic.py:1993: PerformanceWarning: \n",
      "your performance may suffer as PyTables will pickle object types that it cannot\n",
      "map directly to c-types [inferred_type->mixed,key->block1_values] [items->['Name', 'Data', 'MFCC', 'Spectrogram']]\n",
      "\n",
      "  return pytables.to_hdf(path_or_buf, key, self, **kwargs)\n"
     ]
    }
   ],
   "source": [
    "song_df.to_hdf('song_df.h5', key='song_df')"
   ]
  },
  {
   "cell_type": "markdown",
   "metadata": {},
   "source": [
    "# Generating X and y for training"
   ]
  },
  {
   "cell_type": "code",
   "execution_count": 120,
   "metadata": {},
   "outputs": [],
   "source": [
    "from sklearn.preprocessing import OneHotEncoder\n",
    "from sklearn.model_selection import train_test_split"
   ]
  },
  {
   "cell_type": "code",
   "execution_count": 127,
   "metadata": {},
   "outputs": [
    {
     "name": "stdout",
     "output_type": "stream",
     "text": [
      "[[1. 0. 0.]\n",
      " [1. 0. 0.]\n",
      " [1. 0. 0.]\n",
      " ...\n",
      " [0. 0. 1.]\n",
      " [0. 0. 1.]\n",
      " [0. 0. 1.]]\n"
     ]
    }
   ],
   "source": [
    "song_df = pd.read_hdf('song_df.h5', 'song_df')\n",
    "X = song_df.Spectrogram.values\n",
    "y = song_df.Type.values\n",
    "\n",
    "onehot_encoder = OneHotEncoder(sparse=False)\n",
    "y = onehot_encoder.fit_transform(y.reshape(len(y), 1))\n",
    "print(y)"
   ]
  },
  {
   "cell_type": "code",
   "execution_count": 129,
   "metadata": {},
   "outputs": [
    {
     "name": "stdout",
     "output_type": "stream",
     "text": [
      "(1440, 47, 47)\n"
     ]
    }
   ],
   "source": [
    "X_new = np.zeros((1440, 47, 47))\n",
    "for i,d in enumerate(X):\n",
    "    X_new[i,:,:] = d[:, :]\n",
    "print(X_new.shape)\n",
    "X = X_new"
   ]
  },
  {
   "cell_type": "code",
   "execution_count": 130,
   "metadata": {},
   "outputs": [],
   "source": [
    "X_train, X_test, y_train, y_test = train_test_split(X, y, test_size=0.1, random_state=42)"
   ]
  },
  {
   "cell_type": "code",
   "execution_count": 131,
   "metadata": {},
   "outputs": [],
   "source": [
    "X_train, X_val, y_train, y_val = train_test_split(X_train, y_train, test_size=0.15, random_state=42)"
   ]
  },
  {
   "cell_type": "code",
   "execution_count": 132,
   "metadata": {},
   "outputs": [
    {
     "name": "stdout",
     "output_type": "stream",
     "text": [
      "(1101, 47, 47) (1101, 3)\n",
      "(195, 47, 47) (195, 3)\n",
      "(144, 47, 47) (144, 3)\n"
     ]
    }
   ],
   "source": [
    "print(X_train.shape, y_train.shape)\n",
    "print(X_val.shape, y_val.shape)\n",
    "print(X_test.shape, y_test.shape)"
   ]
  },
  {
   "cell_type": "code",
   "execution_count": 133,
   "metadata": {},
   "outputs": [],
   "source": [
    "# Saving the generated datasets\n",
    "\n",
    "# Training set\n",
    "np.save(\"./numpy_ds/x_train_conv\", X_train)\n",
    "np.save(\"./numpy_ds/y_train_conv\", y_train)\n",
    "\n",
    "# Validation set\n",
    "np.save(\"./numpy_ds/x_val_conv\", X_val)\n",
    "np.save(\"./numpy_ds/y_val_conv\", y_val)\n",
    "\n",
    "# Test set\n",
    "np.save(\"./numpy_ds/x_test_conv\", X_test)\n",
    "np.save(\"./numpy_ds/y_test_conv\", y_test)"
   ]
  },
  {
   "cell_type": "markdown",
   "metadata": {},
   "source": [
    "## Loading New dataset"
   ]
  },
  {
   "cell_type": "code",
   "execution_count": 134,
   "metadata": {},
   "outputs": [],
   "source": [
    "X_train = np.load(\"./numpy_ds/x_train_conv.npy\")\n",
    "X_val = np.load(\"./numpy_ds/x_val_conv.npy\")\n",
    "X_test = np.load(\"./numpy_ds/x_test_conv.npy\")\n",
    "\n",
    "y_train = np.load(\"./numpy_ds/y_train_conv.npy\")\n",
    "y_val = np.load(\"./numpy_ds/y_val_conv.npy\")\n",
    "y_test = np.load(\"./numpy_ds/y_test_conv.npy\")"
   ]
  },
  {
   "cell_type": "markdown",
   "metadata": {},
   "source": [
    "# Model the Convnet"
   ]
  },
  {
   "cell_type": "code",
   "execution_count": null,
   "metadata": {},
   "outputs": [],
   "source": [
    "import torch\n",
    "import torch.nn as nn\n",
    "from torch.autograd import Variable\n",
    "from torch.utils import data\n",
    "\n",
    "torch.cuda.set_device(3)\n",
    "torch.manual_seed(0)"
   ]
  },
  {
   "cell_type": "code",
   "execution_count": 157,
   "metadata": {},
   "outputs": [],
   "source": [
    "class SpectroCNN(nn.Module):\n",
    "    def __init__(self):\n",
    "        super(SpectroCNN, self).__init__()\n",
    "        self.conv_layer1 = nn.Conv2d(1, 16, kernel_size=5, stride=1)\n",
    "        self.conv_layer2 = nn.Conv2d(16, 32, kernel_size=5, stride=1)\n",
    "        self.conv_layer3 = nn.Conv2d(32, 64, kernel_size=3, stride=1)\n",
    "        self.conv_layer4 = nn.Conv2d(64, 128, kernel_size=3, stride=1)\n",
    "        self.conv_layer5 = nn.Conv2d(128, 256, kernel_size=3, stride=1)\n",
    "    \n",
    "        self.maxpool = nn.MaxPool2d(kernel_size=2)\n",
    "        \n",
    "        self.drop2 = nn.Dropout2d(p=0.2)\n",
    "        self.drop1 = nn.Dropout(p=0.5)\n",
    "        \n",
    "        self.activation_layer = nn.ReLU()\n",
    "        \n",
    "        self.linear_1 = nn.Linear(1024, 256)\n",
    "        self.linear_2 = nn.Linear(256, 64)\n",
    "        self.linear_3 = nn.Linear(64, 16)\n",
    "        self.linear_4 = nn.Linear(16, 8)\n",
    "        self.linear_5 = nn.Linear(8, 3)\n",
    "        \n",
    "        \n",
    "    def forward(self, x, dim):\n",
    "\n",
    "        out = self.conv_layer1(x)\n",
    "        out = self.activation_layer(out)\n",
    "        out = self.conv_layer2(out)\n",
    "        out = self.activation_layer(out)\n",
    "        out = self.maxpool(out)\n",
    "        out = self.drop2(out)\n",
    "        \n",
    "        out = self.conv_layer3(out)\n",
    "        out = self.activation_layer(out)\n",
    "        out = self.conv_layer4(out)\n",
    "        out = self.activation_layer(out)\n",
    "        out = self.maxpool(out)\n",
    "        out = self.drop2(out)\n",
    "        \n",
    "        out = self.conv_layer5(out)\n",
    "        out = self.activation_layer(out)\n",
    "        out = self.maxpool(out)\n",
    "        \n",
    "        out = out.view(dim, -1)\n",
    "        out = self.linear_1(out)\n",
    "        out = self.activation_layer(out)\n",
    "        out = self.drop1(out)\n",
    "        out = self.linear_2(out)\n",
    "        out = self.activation_layer(out)\n",
    "        out = self.linear_3(out)\n",
    "        out = self.activation_layer(out)\n",
    "        out = self.linear_4(out)\n",
    "        out = self.activation_layer(out)\n",
    "        out = self.linear_5(out)\n",
    "        \n",
    "        return out"
   ]
  },
  {
   "cell_type": "code",
   "execution_count": 186,
   "metadata": {},
   "outputs": [],
   "source": [
    "random.seed(0)\n",
    "\n",
    "def train_cnn(model, x_tr, y_tr, x_v, y_v, criterion, optimizer, epoch_range,  batch_size):\n",
    "    losses = []\n",
    "    val_losses = []\n",
    "    for num_epoch in range(epoch_range):\n",
    "        selected = random.sample(range(0, x_tr.shape[0]), batch_size)\n",
    "        x = np.zeros((batch_size, 47, 47))\n",
    "        y = np.zeros((batch_size, 3))\n",
    "        for i in range(len(selected)):\n",
    "            x[i, :, :] = x_tr[selected[i]]\n",
    "            y[i, :] = y_tr[selected[i]]\n",
    "        dim = batch_size\n",
    "        x = torch.from_numpy(x).float().cuda()\n",
    "        x = x.view(batch_size, -1, 47, 47)\n",
    "        y = torch.from_numpy(y).long().cuda()\n",
    "        #---------FORWARD------------#\n",
    "        out = model.forward(x, dim)\n",
    "        out = torch.tensor(out).float().cuda()\n",
    "        loss = criterion(out, torch.max(y, 1)[1])\n",
    "        #---------BACKWARD------------#\n",
    "        optimizer.zero_grad()\n",
    "        loss.backward()\n",
    "        optimizer.step()\n",
    "        \n",
    "        v = random.sample(range(0, x_v.shape[0]), 8)\n",
    "        xv = np.zeros((8, 47, 47))\n",
    "        yv = np.zeros((8, 3))\n",
    "        for i in range(len(v)):\n",
    "            xv[i, :, :] = x_v[v[i]]\n",
    "            yv[i, :] = y_v[v[i]]\n",
    "        \n",
    "        xv = torch.from_numpy(xv).float().cuda()\n",
    "        xv = xv.view(8, -1, 47, 47)\n",
    "        yv = torch.from_numpy(yv).long().cuda()      \n",
    "        \n",
    "        val_out = model.forward(xv, 8)\n",
    "        val_out = torch.tensor(val_out).float().cuda()\n",
    "        v_loss = criterion(val_out, torch.max(yv, 1)[1])\n",
    "        \n",
    "        val_losses.append(v_loss.data[0])            \n",
    "        losses.append(loss.data[0])\n",
    "        if num_epoch%100 == 0:\n",
    "            print('epoch [{}/{}], loss:{:.5f}, val:{:.5f}'.format(num_epoch + 1, epoch_range, \n",
    "                                                              loss.data[0], v_loss.data[0]))\n",
    "    return losses, val_losses"
   ]
  },
  {
   "cell_type": "code",
   "execution_count": 187,
   "metadata": {},
   "outputs": [],
   "source": [
    "def init_weights(layer):\n",
    "    if type(layer) == nn.Linear or type(layer) == nn.Conv2d:\n",
    "        nn.init.xavier_normal_(layer.weight)"
   ]
  },
  {
   "cell_type": "code",
   "execution_count": 190,
   "metadata": {},
   "outputs": [
    {
     "name": "stderr",
     "output_type": "stream",
     "text": [
      "/disk/scratch/s1769454/anaconda3/envs/dissertation/lib/python3.6/site-packages/ipykernel_launcher.py:41: UserWarning: invalid index of a 0-dim tensor. This will be an error in PyTorch 0.5. Use tensor.item() to convert a 0-dim tensor to a Python number\n",
      "/disk/scratch/s1769454/anaconda3/envs/dissertation/lib/python3.6/site-packages/ipykernel_launcher.py:42: UserWarning: invalid index of a 0-dim tensor. This will be an error in PyTorch 0.5. Use tensor.item() to convert a 0-dim tensor to a Python number\n",
      "/disk/scratch/s1769454/anaconda3/envs/dissertation/lib/python3.6/site-packages/ipykernel_launcher.py:45: UserWarning: invalid index of a 0-dim tensor. This will be an error in PyTorch 0.5. Use tensor.item() to convert a 0-dim tensor to a Python number\n"
     ]
    },
    {
     "name": "stdout",
     "output_type": "stream",
     "text": [
      "epoch [1/10000], loss:1.15401, val:1.16896\n",
      "epoch [101/10000], loss:1.09385, val:1.08859\n",
      "epoch [201/10000], loss:1.09857, val:1.07943\n",
      "epoch [301/10000], loss:1.09105, val:1.09324\n",
      "epoch [401/10000], loss:1.10286, val:1.09709\n",
      "epoch [501/10000], loss:1.08800, val:1.11538\n",
      "epoch [601/10000], loss:1.09644, val:1.06216\n",
      "epoch [701/10000], loss:1.08631, val:1.11605\n",
      "epoch [801/10000], loss:0.98874, val:1.14352\n",
      "epoch [901/10000], loss:1.08844, val:0.75468\n",
      "epoch [1001/10000], loss:0.92682, val:0.71675\n",
      "epoch [1101/10000], loss:0.96178, val:0.57909\n",
      "epoch [1201/10000], loss:0.83930, val:0.58681\n",
      "epoch [1301/10000], loss:0.61165, val:0.76178\n",
      "epoch [1401/10000], loss:0.84093, val:0.91800\n",
      "epoch [1501/10000], loss:0.81270, val:0.51144\n",
      "epoch [1601/10000], loss:0.68488, val:1.25784\n",
      "epoch [1701/10000], loss:0.52917, val:0.43569\n",
      "epoch [1801/10000], loss:0.59312, val:0.48309\n",
      "epoch [1901/10000], loss:0.44112, val:0.53117\n",
      "epoch [2001/10000], loss:0.55924, val:0.32559\n",
      "epoch [2101/10000], loss:0.51136, val:0.34736\n",
      "epoch [2201/10000], loss:0.66984, val:0.32231\n",
      "epoch [2301/10000], loss:0.53804, val:0.33179\n",
      "epoch [2401/10000], loss:0.35449, val:0.20737\n",
      "epoch [2501/10000], loss:0.36804, val:0.73820\n",
      "epoch [2601/10000], loss:0.45214, val:0.91035\n",
      "epoch [2701/10000], loss:0.32967, val:0.16164\n",
      "epoch [2801/10000], loss:0.47423, val:0.06913\n",
      "epoch [2901/10000], loss:0.27979, val:0.31982\n",
      "epoch [3001/10000], loss:0.38065, val:0.14771\n",
      "epoch [3101/10000], loss:0.24267, val:0.91608\n",
      "epoch [3201/10000], loss:0.23883, val:0.40031\n",
      "epoch [3301/10000], loss:0.25078, val:0.13873\n",
      "epoch [3401/10000], loss:0.26538, val:0.19267\n",
      "epoch [3501/10000], loss:0.22873, val:0.15332\n",
      "epoch [3601/10000], loss:0.28151, val:0.52186\n",
      "epoch [3701/10000], loss:0.22044, val:0.11399\n",
      "epoch [3801/10000], loss:0.14014, val:0.04131\n",
      "epoch [3901/10000], loss:0.23354, val:0.14930\n",
      "epoch [4001/10000], loss:0.28360, val:0.32921\n",
      "epoch [4101/10000], loss:0.21216, val:0.43760\n",
      "epoch [4201/10000], loss:0.18181, val:0.63721\n",
      "epoch [4301/10000], loss:0.19894, val:0.20137\n",
      "epoch [4401/10000], loss:0.16393, val:0.33878\n",
      "epoch [4501/10000], loss:0.16227, val:0.08197\n",
      "epoch [4601/10000], loss:0.15253, val:0.53735\n",
      "epoch [4701/10000], loss:0.18529, val:0.03292\n",
      "epoch [4801/10000], loss:0.10521, val:0.01853\n",
      "epoch [4901/10000], loss:0.10825, val:0.13067\n",
      "epoch [5001/10000], loss:0.09266, val:0.28987\n",
      "epoch [5101/10000], loss:0.25847, val:0.07500\n",
      "epoch [5201/10000], loss:0.07490, val:0.25910\n",
      "epoch [5301/10000], loss:0.21705, val:0.74756\n",
      "epoch [5401/10000], loss:0.06224, val:0.27124\n",
      "epoch [5501/10000], loss:0.14594, val:0.45378\n",
      "epoch [5601/10000], loss:0.17776, val:0.75924\n",
      "epoch [5701/10000], loss:0.11636, val:0.56331\n",
      "epoch [5801/10000], loss:0.12933, val:0.05896\n",
      "epoch [5901/10000], loss:0.05825, val:0.10375\n",
      "epoch [6001/10000], loss:0.02929, val:0.02508\n",
      "epoch [6101/10000], loss:0.10553, val:0.23538\n",
      "epoch [6201/10000], loss:0.09452, val:0.66989\n",
      "epoch [6301/10000], loss:0.03377, val:0.40101\n",
      "epoch [6401/10000], loss:0.09930, val:0.01221\n",
      "epoch [6501/10000], loss:0.01359, val:0.56288\n",
      "epoch [6601/10000], loss:0.03785, val:0.09895\n",
      "epoch [6701/10000], loss:0.06684, val:0.17249\n",
      "epoch [6801/10000], loss:0.01149, val:0.79496\n",
      "epoch [6901/10000], loss:0.03202, val:1.22079\n",
      "epoch [7001/10000], loss:0.01338, val:0.43842\n",
      "epoch [7101/10000], loss:0.07036, val:0.00092\n",
      "epoch [7201/10000], loss:0.03397, val:0.18015\n",
      "epoch [7301/10000], loss:0.04303, val:0.35792\n",
      "epoch [7401/10000], loss:0.05604, val:0.57183\n",
      "epoch [7501/10000], loss:0.00979, val:0.02710\n",
      "epoch [7601/10000], loss:0.01881, val:0.16065\n",
      "epoch [7701/10000], loss:0.01042, val:0.22865\n",
      "epoch [7801/10000], loss:0.03489, val:1.87502\n",
      "epoch [7901/10000], loss:0.08492, val:1.40140\n",
      "epoch [8001/10000], loss:0.01440, val:0.00452\n",
      "epoch [8101/10000], loss:0.00293, val:0.00095\n",
      "epoch [8201/10000], loss:0.10424, val:0.65054\n",
      "epoch [8301/10000], loss:0.01549, val:0.00102\n",
      "epoch [8401/10000], loss:0.06114, val:0.00465\n",
      "epoch [8501/10000], loss:0.00522, val:0.10182\n",
      "epoch [8601/10000], loss:0.06505, val:0.24745\n",
      "epoch [8701/10000], loss:0.01423, val:0.32729\n",
      "epoch [8801/10000], loss:0.04883, val:0.34348\n",
      "epoch [8901/10000], loss:0.00430, val:1.00313\n",
      "epoch [9001/10000], loss:0.02382, val:0.01747\n",
      "epoch [9101/10000], loss:0.04566, val:0.31792\n",
      "epoch [9201/10000], loss:0.00231, val:0.00002\n",
      "epoch [9301/10000], loss:0.03135, val:0.00289\n",
      "epoch [9401/10000], loss:0.00601, val:2.55759\n",
      "epoch [9501/10000], loss:0.01160, val:0.64309\n",
      "epoch [9601/10000], loss:0.00473, val:0.32265\n",
      "epoch [9701/10000], loss:0.00276, val:0.00305\n",
      "epoch [9801/10000], loss:0.00089, val:0.46337\n",
      "epoch [9901/10000], loss:0.00461, val:0.00189\n"
     ]
    }
   ],
   "source": [
    "epoch_range = 10000\n",
    "batch_size = 48\n",
    "learning_rate = 0.0001\n",
    "\n",
    "cnn_1 = SpectroCNN().cuda()\n",
    "cnn_1.apply(init_weights)\n",
    "criterion = nn.CrossEntropyLoss()\n",
    "optimizer = torch.optim.Adam(\n",
    "    cnn_1.parameters(), lr=learning_rate)\n",
    "\n",
    "losses_1, vloss = train_cnn(cnn_1, X_train, y_train, X_val, y_val, \n",
    "                                 criterion, optimizer, epoch_range, batch_size)"
   ]
  },
  {
   "cell_type": "code",
   "execution_count": 194,
   "metadata": {},
   "outputs": [
    {
     "data": {
      "image/png": "[encoded data removed]",
      "text/plain": [
       "<Figure size 504x360 with 1 Axes>"
      ]
     },
     "metadata": {},
     "output_type": "display_data"
    }
   ],
   "source": [
    "fig = plt.figure(figsize=(7, 5))\n",
    "plt.title(\"Loss Curve for CNN\", fontsize=14)\n",
    "plt.plot(vloss, label=\"val\")\n",
    "plt.plot(losses_1, label=\"train\")\n",
    "plt.xlabel('Epoch')\n",
    "plt.ylabel('Loss')\n",
    "plt.legend()\n",
    "plt.show()\n",
    "fig.savefig(\"./images/cnn_performance.pdf\", bbox_inches='tight')"
   ]
  },
  {
   "cell_type": "code",
   "execution_count": 193,
   "metadata": {},
   "outputs": [
    {
     "name": "stdout",
     "output_type": "stream",
     "text": [
      "Accuracy =  84.72222222222223\n"
     ]
    }
   ],
   "source": [
    "total = y_test.shape[0]\n",
    "correct = 0\n",
    "\n",
    "for i in range(X_test.shape[0]):\n",
    "    data = X_test[i, :, :]\n",
    "    data = torch.from_numpy(data).float().cuda()\n",
    "    data = data.view(1, -1, 47, 47)\n",
    "    true_out = y_test[i, :]\n",
    "    mdl_out = cnn_1.forward(data, 1)\n",
    "    out = (mdl_out.data).cpu().numpy()\n",
    "    if np.argmax(out) == np.argmax(true_out):\n",
    "        correct += 1\n",
    "print(\"Accuracy = \", correct*100/total)"
   ]
  },
  {
   "cell_type": "code",
   "execution_count": null,
   "metadata": {},
   "outputs": [],
   "source": []
  }
 ],
 "metadata": {
  "kernelspec": {
   "display_name": "Python 3",
   "language": "python",
   "name": "python3"
  },
  "language_info": {
   "codemirror_mode": {
    "name": "ipython",
    "version": 3
   },
   "file_extension": ".py",
   "mimetype": "text/x-python",
   "name": "python",
   "nbconvert_exporter": "python",
   "pygments_lexer": "ipython3",
   "version": "3.6.5"
  }
 },
 "nbformat": 4,
 "nbformat_minor": 2
}
