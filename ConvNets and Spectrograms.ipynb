{
 "cells": [
  {
   "cell_type": "code",
   "execution_count": 1,
   "metadata": {},
   "outputs": [
    {
     "data": {
      "text/plain": [
       "<torch._C.Generator at 0x7efd10f70b70>"
      ]
     },
     "execution_count": 1,
     "metadata": {},
     "output_type": "execute_result"
    }
   ],
   "source": [
    "import matplotlib.pyplot as plt\n",
    "import numpy as np\n",
    "import random\n",
    "from scipy import signal\n",
    "import pandas as pd\n",
    "\n",
    "import torch\n",
    "import torch.nn as nn\n",
    "from torch.autograd import Variable\n",
    "from torch.utils import data\n",
    "\n",
    "torch.cuda.set_device(2)\n",
    "torch.manual_seed(0)"
   ]
  },
  {
   "cell_type": "markdown",
   "metadata": {},
   "source": [
    "# Get Data and generate spectrograms"
   ]
  },
  {
   "cell_type": "code",
   "execution_count": 2,
   "metadata": {},
   "outputs": [],
   "source": [
    "song_df = pd.read_hdf('song_df.h5', 'song_df')"
   ]
  },
  {
   "cell_type": "code",
   "execution_count": 3,
   "metadata": {},
   "outputs": [
    {
     "name": "stderr",
     "output_type": "stream",
     "text": [
      "/disk/scratch/s1769454/anaconda3/envs/dissertation/lib/python3.6/site-packages/ipykernel_launcher.py:10: RuntimeWarning: divide by zero encountered in log\n",
      "  # Remove the CWD from sys.path while we load stuff.\n"
     ]
    }
   ],
   "source": [
    "plt.ioff()\n",
    "for i in range(len(song_df.index)):\n",
    "    a = song_df.iloc[i].Data\n",
    "    fig, ax = plt.subplots(1, 1, figsize=(0.375*2,0.375*2), frameon=False, facecolor='black')\n",
    "    ax.get_yaxis().set_visible(False)\n",
    "    ax.get_xaxis().set_visible(False)\n",
    "    ax.set_facecolor(\"black\")\n",
    "    #fig.add_axes(ax)\n",
    "    frequencies, times, spectrogram = signal.spectrogram(a, 16000)\n",
    "    plt.pcolormesh(np.log(spectrogram))\n",
    "    plt.axis('off')\n",
    "    #plt.show()\n",
    "    filename = song_df.iloc[i].Name + \".png\"\n",
    "    #fig.set_tight_layout(True)\n",
    "    extent = ax.get_window_extent().transformed(fig.dpi_scale_trans.inverted())\n",
    "    #plt.savefig('/tmp/test.png', bbox_inches=extent)\n",
    "    fig.savefig(\"./spectrograms/\"+filename, bbox_inches=extent)\n",
    "    plt.close(fig)\n",
    "\n",
    "# Log of Spectrogram caused an error because spectrogram values had 0 in sing034_3 due to the pause in between."
   ]
  },
  {
   "cell_type": "code",
   "execution_count": 4,
   "metadata": {},
   "outputs": [
    {
     "data": {
      "text/html": [
       "<div>\n",
       "<style scoped>\n",
       "    .dataframe tbody tr th:only-of-type {\n",
       "        vertical-align: middle;\n",
       "    }\n",
       "\n",
       "    .dataframe tbody tr th {\n",
       "        vertical-align: top;\n",
       "    }\n",
       "\n",
       "    .dataframe thead th {\n",
       "        text-align: right;\n",
       "    }\n",
       "</style>\n",
       "<table border=\"1\" class=\"dataframe\">\n",
       "  <thead>\n",
       "    <tr style=\"text-align: right;\">\n",
       "      <th></th>\n",
       "      <th>Name</th>\n",
       "      <th>Data</th>\n",
       "      <th>Freq</th>\n",
       "      <th>Type</th>\n",
       "      <th>MFCC</th>\n",
       "      <th>Spectrogram</th>\n",
       "    </tr>\n",
       "  </thead>\n",
       "  <tbody>\n",
       "    <tr>\n",
       "      <th>373</th>\n",
       "      <td>sing034_3</td>\n",
       "      <td>[-19464192, -16252928, -5177344, 14483456, 465...</td>\n",
       "      <td>16000</td>\n",
       "      <td>0</td>\n",
       "      <td>[[38.812406955625654, -6.280405806858493, -13....</td>\n",
       "      <td>[[1.0, 1.0, 1.0, 1.0, 1.0, 1.0, 1.0, 1.0, 1.0,...</td>\n",
       "    </tr>\n",
       "  </tbody>\n",
       "</table>\n",
       "</div>"
      ],
      "text/plain": [
       "          Name                                               Data   Freq  \\\n",
       "373  sing034_3  [-19464192, -16252928, -5177344, 14483456, 465...  16000   \n",
       "\n",
       "     Type                                               MFCC  \\\n",
       "373     0  [[38.812406955625654, -6.280405806858493, -13....   \n",
       "\n",
       "                                           Spectrogram  \n",
       "373  [[1.0, 1.0, 1.0, 1.0, 1.0, 1.0, 1.0, 1.0, 1.0,...  "
      ]
     },
     "execution_count": 4,
     "metadata": {},
     "output_type": "execute_result"
    }
   ],
   "source": [
    "song_df.loc[song_df['Name'] == 'sing034_3']"
   ]
  },
  {
   "cell_type": "markdown",
   "metadata": {},
   "source": [
    "# Updating the data repository"
   ]
  },
  {
   "cell_type": "code",
   "execution_count": 5,
   "metadata": {},
   "outputs": [],
   "source": [
    "import cv2\n",
    "import copy"
   ]
  },
  {
   "cell_type": "code",
   "execution_count": 6,
   "metadata": {},
   "outputs": [],
   "source": [
    "spectro_list = []\n",
    "\n",
    "for i in range(len(song_df.index)):\n",
    "    filename = \"spectrograms/\"+song_df.iloc[i].Name+\".png\"\n",
    "    temp_pic = cv2.imread(filename)\n",
    "    temp_pic = cv2.cvtColor(temp_pic, cv2.COLOR_RGB2GRAY)\n",
    "    temp_pic = temp_pic/255\n",
    "    r, c = temp_pic.shape\n",
    "    spectro_list.append(copy.deepcopy(temp_pic[:min(r, c), :min(r, c)]))"
   ]
  },
  {
   "cell_type": "code",
   "execution_count": 7,
   "metadata": {},
   "outputs": [],
   "source": [
    "song_df['Spectrogram'] = pd.Series(spectro_list, index=song_df.index)"
   ]
  },
  {
   "cell_type": "code",
   "execution_count": 8,
   "metadata": {},
   "outputs": [
    {
     "name": "stderr",
     "output_type": "stream",
     "text": [
      "/disk/scratch/s1769454/anaconda3/envs/dissertation/lib/python3.6/site-packages/pandas-0.23.1-py3.6-linux-x86_64.egg/pandas/core/generic.py:1993: PerformanceWarning: \n",
      "your performance may suffer as PyTables will pickle object types that it cannot\n",
      "map directly to c-types [inferred_type->mixed,key->block1_values] [items->['Name', 'Data', 'MFCC', 'Spectrogram']]\n",
      "\n",
      "  return pytables.to_hdf(path_or_buf, key, self, **kwargs)\n"
     ]
    }
   ],
   "source": [
    "song_df.to_hdf('song_df.h5', key='song_df')"
   ]
  },
  {
   "cell_type": "code",
   "execution_count": 9,
   "metadata": {},
   "outputs": [
    {
     "data": {
      "text/plain": [
       "(47, 48)"
      ]
     },
     "execution_count": 9,
     "metadata": {},
     "output_type": "execute_result"
    }
   ],
   "source": [
    "temp_pic.shape"
   ]
  },
  {
   "cell_type": "markdown",
   "metadata": {},
   "source": [
    "# Generating X and y for training"
   ]
  },
  {
   "cell_type": "code",
   "execution_count": 10,
   "metadata": {},
   "outputs": [],
   "source": [
    "from sklearn.preprocessing import OneHotEncoder\n",
    "from sklearn.model_selection import train_test_split"
   ]
  },
  {
   "cell_type": "code",
   "execution_count": 11,
   "metadata": {},
   "outputs": [
    {
     "name": "stdout",
     "output_type": "stream",
     "text": [
      "[[1. 0. 0.]\n",
      " [1. 0. 0.]\n",
      " [1. 0. 0.]\n",
      " ...\n",
      " [0. 0. 1.]\n",
      " [0. 0. 1.]\n",
      " [0. 0. 1.]]\n"
     ]
    }
   ],
   "source": [
    "song_df = pd.read_hdf('song_df.h5', 'song_df')\n",
    "X = song_df.Spectrogram.values\n",
    "y = song_df.Type.values\n",
    "\n",
    "onehot_encoder = OneHotEncoder(sparse=False)\n",
    "y = onehot_encoder.fit_transform(y.reshape(len(y), 1))\n",
    "print(y)"
   ]
  },
  {
   "cell_type": "code",
   "execution_count": 12,
   "metadata": {},
   "outputs": [
    {
     "name": "stdout",
     "output_type": "stream",
     "text": [
      "(1440, 47, 47)\n"
     ]
    }
   ],
   "source": [
    "X_new = np.zeros((1440, min(r, c), min(r, c)))\n",
    "for i,d in enumerate(X):\n",
    "    X_new[i,:,:] = d[:, :]\n",
    "print(X_new.shape)\n",
    "X = X_new"
   ]
  },
  {
   "cell_type": "code",
   "execution_count": 13,
   "metadata": {},
   "outputs": [],
   "source": [
    "X_train, X_test, y_train, y_test = train_test_split(X, y, test_size=0.1, random_state=42)"
   ]
  },
  {
   "cell_type": "code",
   "execution_count": 14,
   "metadata": {},
   "outputs": [],
   "source": [
    "X_train, X_val, y_train, y_val = train_test_split(X_train, y_train, test_size=0.15, random_state=42)"
   ]
  },
  {
   "cell_type": "code",
   "execution_count": 15,
   "metadata": {},
   "outputs": [
    {
     "name": "stdout",
     "output_type": "stream",
     "text": [
      "(1101, 47, 47) (1101, 3)\n",
      "(195, 47, 47) (195, 3)\n",
      "(144, 47, 47) (144, 3)\n"
     ]
    }
   ],
   "source": [
    "print(X_train.shape, y_train.shape)\n",
    "print(X_val.shape, y_val.shape)\n",
    "print(X_test.shape, y_test.shape)"
   ]
  },
  {
   "cell_type": "code",
   "execution_count": 16,
   "metadata": {},
   "outputs": [],
   "source": [
    "# Saving the generated datasets\n",
    "\n",
    "# Training set\n",
    "np.save(\"./numpy_ds/x_train_conv\", X_train)\n",
    "np.save(\"./numpy_ds/y_train_conv\", y_train)\n",
    "\n",
    "# Validation set\n",
    "np.save(\"./numpy_ds/x_val_conv\", X_val)\n",
    "np.save(\"./numpy_ds/y_val_conv\", y_val)\n",
    "\n",
    "# Test set\n",
    "np.save(\"./numpy_ds/x_test_conv\", X_test)\n",
    "np.save(\"./numpy_ds/y_test_conv\", y_test)"
   ]
  },
  {
   "cell_type": "markdown",
   "metadata": {},
   "source": [
    "## Loading New dataset"
   ]
  },
  {
   "cell_type": "code",
   "execution_count": 17,
   "metadata": {},
   "outputs": [],
   "source": [
    "X_train = np.load(\"./numpy_ds/x_train_conv.npy\")\n",
    "X_val = np.load(\"./numpy_ds/x_val_conv.npy\")\n",
    "X_test = np.load(\"./numpy_ds/x_test_conv.npy\")\n",
    "\n",
    "y_train = np.load(\"./numpy_ds/y_train_conv.npy\")\n",
    "y_val = np.load(\"./numpy_ds/y_val_conv.npy\")\n",
    "y_test = np.load(\"./numpy_ds/y_test_conv.npy\")"
   ]
  },
  {
   "cell_type": "markdown",
   "metadata": {},
   "source": [
    "# Model the Convnet"
   ]
  },
  {
   "cell_type": "code",
   "execution_count": 18,
   "metadata": {},
   "outputs": [
    {
     "data": {
      "text/plain": [
       "<torch._C.Generator at 0x7efd10f70b70>"
      ]
     },
     "execution_count": 18,
     "metadata": {},
     "output_type": "execute_result"
    }
   ],
   "source": [
    "import torch\n",
    "import torch.nn as nn\n",
    "from torch.autograd import Variable\n",
    "from torch.utils import data\n",
    "\n",
    "torch.cuda.set_device(2)\n",
    "torch.manual_seed(0)"
   ]
  },
  {
   "cell_type": "code",
   "execution_count": 19,
   "metadata": {},
   "outputs": [],
   "source": [
    "class SpectroCNN(nn.Module):\n",
    "    def __init__(self):\n",
    "        super(SpectroCNN, self).__init__()\n",
    "        self.conv_layer1 = nn.Conv2d(1, 16, kernel_size=5, stride=1)\n",
    "        self.conv_layer2 = nn.Conv2d(16, 32, kernel_size=5, stride=1)\n",
    "        self.conv_layer3 = nn.Conv2d(32, 64, kernel_size=3, stride=1)\n",
    "        self.conv_layer4 = nn.Conv2d(64, 128, kernel_size=3, stride=1)\n",
    "        self.conv_layer5 = nn.Conv2d(128, 256, kernel_size=3, stride=1)\n",
    "    \n",
    "        self.maxpool = nn.MaxPool2d(kernel_size=2)\n",
    "        \n",
    "        self.drop2 = nn.Dropout2d(p=0.2)\n",
    "        self.drop1 = nn.Dropout(p=0.5)\n",
    "        \n",
    "        self.activation_layer = nn.ReLU()\n",
    "        \n",
    "        self.linear_1 = nn.Linear(1024, 256)\n",
    "        self.linear_2 = nn.Linear(256, 64)\n",
    "        self.linear_3 = nn.Linear(64, 16)\n",
    "        self.linear_4 = nn.Linear(16, 8)\n",
    "        self.linear_5 = nn.Linear(8, 3)\n",
    "        \n",
    "        \n",
    "    def forward(self, x, dim):\n",
    "\n",
    "        out = self.conv_layer1(x)\n",
    "        out = self.activation_layer(out)\n",
    "        out = self.conv_layer2(out)\n",
    "        out = self.activation_layer(out)\n",
    "        out = self.maxpool(out)\n",
    "        out = self.drop2(out)\n",
    "        \n",
    "        out = self.conv_layer3(out)\n",
    "        out = self.activation_layer(out)\n",
    "        out = self.conv_layer4(out)\n",
    "        out = self.activation_layer(out)\n",
    "        out = self.maxpool(out)\n",
    "        out = self.drop2(out)\n",
    "        \n",
    "        out = self.conv_layer5(out)\n",
    "        out = self.activation_layer(out)\n",
    "        out = self.maxpool(out)\n",
    "        \n",
    "        out = out.view(dim, -1)\n",
    "        out = self.linear_1(out)\n",
    "        out = self.activation_layer(out)\n",
    "        out = self.drop1(out)\n",
    "        out = self.linear_2(out)\n",
    "        out = self.activation_layer(out)\n",
    "        out = self.linear_3(out)\n",
    "        out = self.activation_layer(out)\n",
    "        out = self.linear_4(out)\n",
    "        out = self.activation_layer(out)\n",
    "        out = self.linear_5(out)\n",
    "        \n",
    "        return out"
   ]
  },
  {
   "cell_type": "code",
   "execution_count": 20,
   "metadata": {},
   "outputs": [],
   "source": [
    "random.seed(0)\n",
    "\n",
    "def train_cnn(model, x_tr, y_tr, x_v, y_v, rows, cols, criterion, optimizer, epoch_range,  batch_size):\n",
    "    losses = []\n",
    "    val_losses = []\n",
    "    for num_epoch in range(epoch_range):\n",
    "        selected = random.sample(range(0, x_tr.shape[0]), batch_size)\n",
    "        x = np.zeros((batch_size, rows, cols))\n",
    "        y = np.zeros((batch_size, 3))\n",
    "        for i in range(len(selected)):\n",
    "            x[i, :, :] = x_tr[selected[i]]\n",
    "            y[i, :] = y_tr[selected[i]]\n",
    "        dim = batch_size\n",
    "        x = torch.from_numpy(x).float().cuda()\n",
    "        x = x.view(batch_size, -1, rows, cols)\n",
    "        y = torch.from_numpy(y).long().cuda()\n",
    "        #---------FORWARD------------#\n",
    "        out = model.forward(x, dim)\n",
    "        out = torch.tensor(out).float().cuda()\n",
    "        loss = criterion(out, torch.max(y, 1)[1])\n",
    "        #---------BACKWARD------------#\n",
    "        optimizer.zero_grad()\n",
    "        loss.backward()\n",
    "        optimizer.step()\n",
    "        \n",
    "        v = random.sample(range(0, x_v.shape[0]), 8)\n",
    "        xv = np.zeros((8, rows, cols))\n",
    "        yv = np.zeros((8, 3))\n",
    "        for i in range(len(v)):\n",
    "            xv[i, :, :] = x_v[v[i]]\n",
    "            yv[i, :] = y_v[v[i]]\n",
    "        \n",
    "        xv = torch.from_numpy(xv).float().cuda()\n",
    "        xv = xv.view(8, -1, rows, cols)\n",
    "        yv = torch.from_numpy(yv).long().cuda()      \n",
    "        \n",
    "        val_out = model.forward(xv, 8)\n",
    "        val_out = torch.tensor(val_out).float().cuda()\n",
    "        v_loss = criterion(val_out, torch.max(yv, 1)[1])\n",
    "        \n",
    "        val_losses.append(v_loss.data[0])            \n",
    "        losses.append(loss.data[0])\n",
    "        if num_epoch%100 == 0:\n",
    "            print('epoch [{}/{}], loss:{:.5f}, val:{:.5f}'.format(num_epoch + 1, epoch_range, \n",
    "                                                              loss.data[0], v_loss.data[0]))\n",
    "    return losses, val_losses"
   ]
  },
  {
   "cell_type": "code",
   "execution_count": 21,
   "metadata": {},
   "outputs": [],
   "source": [
    "def init_weights(layer):\n",
    "    if type(layer) == nn.Linear or type(layer) == nn.Conv2d:\n",
    "        nn.init.xavier_normal_(layer.weight)"
   ]
  },
  {
   "cell_type": "code",
   "execution_count": 22,
   "metadata": {},
   "outputs": [
    {
     "name": "stderr",
     "output_type": "stream",
     "text": [
      "/disk/scratch/s1769454/anaconda3/envs/dissertation/lib/python3.6/site-packages/ipykernel_launcher.py:41: UserWarning: invalid index of a 0-dim tensor. This will be an error in PyTorch 0.5. Use tensor.item() to convert a 0-dim tensor to a Python number\n",
      "/disk/scratch/s1769454/anaconda3/envs/dissertation/lib/python3.6/site-packages/ipykernel_launcher.py:42: UserWarning: invalid index of a 0-dim tensor. This will be an error in PyTorch 0.5. Use tensor.item() to convert a 0-dim tensor to a Python number\n",
      "/disk/scratch/s1769454/anaconda3/envs/dissertation/lib/python3.6/site-packages/ipykernel_launcher.py:45: UserWarning: invalid index of a 0-dim tensor. This will be an error in PyTorch 0.5. Use tensor.item() to convert a 0-dim tensor to a Python number\n"
     ]
    },
    {
     "name": "stdout",
     "output_type": "stream",
     "text": [
      "epoch [1/5000], loss:1.10693, val:1.06328\n",
      "epoch [101/5000], loss:1.11165, val:1.13992\n",
      "epoch [201/5000], loss:1.10118, val:1.09906\n",
      "epoch [301/5000], loss:1.11157, val:1.13468\n",
      "epoch [401/5000], loss:1.09638, val:1.11054\n",
      "epoch [501/5000], loss:1.09209, val:1.08669\n",
      "epoch [601/5000], loss:1.09109, val:1.04996\n",
      "epoch [701/5000], loss:1.04609, val:1.03183\n",
      "epoch [801/5000], loss:0.96302, val:1.20347\n",
      "epoch [901/5000], loss:0.97220, val:0.71318\n",
      "epoch [1001/5000], loss:0.83288, val:0.74364\n",
      "epoch [1101/5000], loss:0.85150, val:0.52004\n",
      "epoch [1201/5000], loss:0.81088, val:0.40289\n",
      "epoch [1301/5000], loss:0.56901, val:0.70664\n",
      "epoch [1401/5000], loss:0.80603, val:0.74053\n",
      "epoch [1501/5000], loss:0.70651, val:0.46186\n",
      "epoch [1601/5000], loss:0.47783, val:0.77667\n",
      "epoch [1701/5000], loss:0.54890, val:0.34335\n",
      "epoch [1801/5000], loss:0.48883, val:0.17273\n",
      "epoch [1901/5000], loss:0.41981, val:0.46188\n",
      "epoch [2001/5000], loss:0.61715, val:0.49576\n",
      "epoch [2101/5000], loss:0.36720, val:0.07580\n",
      "epoch [2201/5000], loss:0.52084, val:0.28004\n",
      "epoch [2301/5000], loss:0.54672, val:0.15307\n",
      "epoch [2401/5000], loss:0.32739, val:0.10832\n",
      "epoch [2501/5000], loss:0.53019, val:0.81268\n",
      "epoch [2601/5000], loss:0.47973, val:0.18496\n",
      "epoch [2701/5000], loss:0.36951, val:0.15113\n",
      "epoch [2801/5000], loss:0.24074, val:0.38809\n",
      "epoch [2901/5000], loss:0.27542, val:0.29315\n",
      "epoch [3001/5000], loss:0.30342, val:0.03102\n",
      "epoch [3101/5000], loss:0.22685, val:0.13362\n",
      "epoch [3201/5000], loss:0.22891, val:0.26696\n",
      "epoch [3301/5000], loss:0.47223, val:0.21300\n",
      "epoch [3401/5000], loss:0.21211, val:0.26538\n",
      "epoch [3501/5000], loss:0.28197, val:0.60710\n",
      "epoch [3601/5000], loss:0.18493, val:0.54451\n",
      "epoch [3701/5000], loss:0.14637, val:0.17080\n",
      "epoch [3801/5000], loss:0.21890, val:0.09014\n",
      "epoch [3901/5000], loss:0.19784, val:1.25905\n",
      "epoch [4001/5000], loss:0.13135, val:0.22777\n",
      "epoch [4101/5000], loss:0.12038, val:0.42567\n",
      "epoch [4201/5000], loss:0.25244, val:0.23620\n",
      "epoch [4301/5000], loss:0.22740, val:1.06815\n",
      "epoch [4401/5000], loss:0.23248, val:0.20910\n",
      "epoch [4501/5000], loss:0.15005, val:0.09075\n",
      "epoch [4601/5000], loss:0.16603, val:0.09187\n",
      "epoch [4701/5000], loss:0.20586, val:0.08532\n",
      "epoch [4801/5000], loss:0.13374, val:0.07526\n",
      "epoch [4901/5000], loss:0.10133, val:0.04934\n"
     ]
    }
   ],
   "source": [
    "epoch_range = 5000\n",
    "batch_size = 48\n",
    "learning_rate = 0.0001\n",
    "\n",
    "cnn_1 = SpectroCNN().cuda()\n",
    "cnn_1.apply(init_weights)\n",
    "criterion = nn.CrossEntropyLoss()\n",
    "optimizer = torch.optim.Adam(\n",
    "    cnn_1.parameters(), lr=learning_rate)\n",
    "\n",
    "losses_1, vloss = train_cnn(cnn_1, X_train, y_train, X_val, y_val, 47, 47,\n",
    "                                 criterion, optimizer, epoch_range, batch_size)"
   ]
  },
  {
   "cell_type": "code",
   "execution_count": 25,
   "metadata": {},
   "outputs": [
    {
     "data": {
      "image/png": "[encoded data removed]",
      "text/plain": [
       "<Figure size 648x360 with 1 Axes>"
      ]
     },
     "metadata": {},
     "output_type": "display_data"
    }
   ],
   "source": [
    "fig = plt.figure(figsize=(9, 5))\n",
    "plt.title(\"Loss Curve for CNN\", fontsize=14)\n",
    "plt.plot(vloss, label=\"val\")\n",
    "plt.plot(losses_1, label=\"train\")\n",
    "plt.xlabel('Epoch')\n",
    "plt.ylabel('Loss')\n",
    "plt.legend()\n",
    "plt.show()\n",
    "fig.savefig(\"./images/cnn_performance.pdf\", bbox_inches='tight')"
   ]
  },
  {
   "cell_type": "markdown",
   "metadata": {},
   "source": [
    "# Testing on the Test Set"
   ]
  },
  {
   "cell_type": "code",
   "execution_count": 24,
   "metadata": {},
   "outputs": [
    {
     "name": "stdout",
     "output_type": "stream",
     "text": [
      "Accuracy =  88.19444444444444\n"
     ]
    }
   ],
   "source": [
    "total = y_test.shape[0]\n",
    "correct = 0\n",
    "\n",
    "for i in range(X_test.shape[0]):\n",
    "    data = X_test[i, :, :]\n",
    "    data = torch.from_numpy(data).float().cuda()\n",
    "    data = data.view(1, -1, 47, 47)\n",
    "    true_out = y_test[i, :]\n",
    "    mdl_out = cnn_1.forward(data, 1)\n",
    "    out = (mdl_out.data).cpu().numpy()\n",
    "    if np.argmax(out) == np.argmax(true_out):\n",
    "        correct += 1\n",
    "print(\"Accuracy = \", correct*100/total)"
   ]
  },
  {
   "cell_type": "code",
   "execution_count": 26,
   "metadata": {},
   "outputs": [
    {
     "name": "stderr",
     "output_type": "stream",
     "text": [
      "/disk/scratch/s1769454/anaconda3/envs/dissertation/lib/python3.6/site-packages/torch/serialization.py:193: UserWarning: Couldn't retrieve source code for container of type SpectroCNN. It won't be checked for correctness upon loading.\n",
      "  \"type \" + obj.__name__ + \". It won't be checked \"\n"
     ]
    }
   ],
   "source": [
    "torch.save(cnn_1, 'models/cnn_speechmode.pt')"
   ]
  },
  {
   "cell_type": "code",
   "execution_count": null,
   "metadata": {},
   "outputs": [],
   "source": []
  }
 ],
 "metadata": {
  "kernelspec": {
   "display_name": "Python 3",
   "language": "python",
   "name": "python3"
  },
  "language_info": {
   "codemirror_mode": {
    "name": "ipython",
    "version": 3
   },
   "file_extension": ".py",
   "mimetype": "text/x-python",
   "name": "python",
   "nbconvert_exporter": "python",
   "pygments_lexer": "ipython3",
   "version": "3.6.5"
  }
 },
 "nbformat": 4,
 "nbformat_minor": 2
}
